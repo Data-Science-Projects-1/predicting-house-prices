{
 "cells": [
  {
   "cell_type": "code",
   "execution_count": 20,
   "id": "30130567",
   "metadata": {},
   "outputs": [],
   "source": [
    "import pandas as pd\n",
    "import numpy as np\n",
    "import matplotlib.pyplot as plt\n",
    "import seaborn as sns\n",
    "\n",
    "from sklearn.preprocessing import OneHotEncoder\n",
    "from sklearn.preprocessing import MultiLabelBinarizer"
   ]
  },
  {
   "cell_type": "code",
   "execution_count": 4,
   "id": "c5e60a45",
   "metadata": {},
   "outputs": [],
   "source": [
    "home_data = pd.read_csv('cleaned_data.csv')\n"
   ]
  },
  {
   "cell_type": "code",
   "execution_count": 9,
   "id": "250e7885",
   "metadata": {},
   "outputs": [],
   "source": [
    "updated_cont = ['OverallQual','YearBuilt',\n",
    "'ExterQual','BsmtFinSF1',\n",
    "'TotalBsmtSF','HeatingQC','1stFlrSF','2ndFlrSF','GrLivArea',\n",
    "'BsmtFullBath','FullBath','HalfBath','KitchenQual','TotRmsAbvGrd',\n",
    "'Fireplaces','GarageCars','GarageArea',\n",
    "'OpenPorchSF', 'OverallCond','Bsmt_magnitude', 'Remod_diff']\n",
    "\n",
    "## final categorical features:\n",
    "to_hot_code = ['LotConfig', 'GarageType','GarageFinish']\n",
    "\n",
    "already_hot_coded = ['2Story', '1Story', '1.5Fin','rest_housestyle',]"
   ]
  },
  {
   "cell_type": "code",
   "execution_count": 21,
   "id": "743e3c09",
   "metadata": {},
   "outputs": [],
   "source": [
    "#use this in a pipeline \n",
    "mlb = MultiLabelBinarizer()\n",
    "# enc = OneHotEncoder()"
   ]
  },
  {
   "cell_type": "code",
   "execution_count": 19,
   "id": "7952050d",
   "metadata": {},
   "outputs": [],
   "source": [
    "# enc.fit(home_data[['BldgType', 'GarageType']])"
   ]
  }
 ],
 "metadata": {
  "kernelspec": {
   "display_name": "Python 3 (ipykernel)",
   "language": "python",
   "name": "python3"
  },
  "language_info": {
   "codemirror_mode": {
    "name": "ipython",
    "version": 3
   },
   "file_extension": ".py",
   "mimetype": "text/x-python",
   "name": "python",
   "nbconvert_exporter": "python",
   "pygments_lexer": "ipython3",
   "version": "3.11.7"
  }
 },
 "nbformat": 4,
 "nbformat_minor": 5
}
