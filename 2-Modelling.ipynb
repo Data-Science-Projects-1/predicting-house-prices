{
 "cells": [
  {
   "cell_type": "code",
   "execution_count": 11,
   "id": "30130567",
   "metadata": {},
   "outputs": [],
   "source": [
    "import pandas as pd\n",
    "import numpy as np\n",
    "import matplotlib.pyplot as plt\n",
    "import seaborn as sns\n",
    "\n",
    "from sklearn.preprocessing import OneHotEncoder\n",
    "from sklearn.preprocessing import MultiLabelBinarizer"
   ]
  },
  {
   "cell_type": "code",
   "execution_count": 12,
   "id": "c5e60a45",
   "metadata": {},
   "outputs": [],
   "source": [
    "home_data = pd.read_csv('cleaned_data.csv')\n",
    "## will have to use standard scaler\n",
    "## will probably have to hotcode some of the categorical features\n",
    "features = home_data.columns[:-1]\n",
    "target = home_data.columns[-1]"
   ]
  },
  {
   "cell_type": "code",
   "execution_count": 13,
   "id": "250e7885",
   "metadata": {},
   "outputs": [],
   "source": [
    "updated_cont = ['LotFrontage', 'LotArea','OverallQual','YearBuilt',\n",
    "'ExterQual','BsmtFinSF1',\n",
    "'TotalBsmtSF','HeatingQC','1stFlrSF','2ndFlrSF','GrLivArea',\n",
    "'BsmtFullBath','FullBath','HalfBath','KitchenQual','TotRmsAbvGrd',\n",
    "'Fireplaces','GarageCars','GarageArea',\n",
    "'OpenPorchSF', 'OverallCond','Bsmt_magnitude', 'Remod_diff']\n",
    "\n",
    "## final categorical features:\n",
    "to_hot_code = ['LotConfig', 'GarageType','GarageFinish']\n",
    "\n",
    "## HouseStyle, Lotconfig\n",
    "already_hot_coded = ['2Story', '1Story', '1.5Fin','rest_housestyle','Corner', 'CulDSac', 'Inside','other_spots']"
   ]
  },
  {
   "cell_type": "code",
   "execution_count": 14,
   "id": "743e3c09",
   "metadata": {},
   "outputs": [],
   "source": [
    "#use this in a pipeline \n",
    "mlb = MultiLabelBinarizer()\n",
    "# enc = OneHotEncoder()"
   ]
  },
  {
   "cell_type": "code",
   "execution_count": 15,
   "id": "7952050d",
   "metadata": {},
   "outputs": [
    {
     "ename": "NameError",
     "evalue": "name 'LogisticRegression' is not defined",
     "output_type": "error",
     "traceback": [
      "\u001b[0;31m---------------------------------------------------------------------------\u001b[0m",
      "\u001b[0;31mNameError\u001b[0m                                 Traceback (most recent call last)",
      "Cell \u001b[0;32mIn[15], line 2\u001b[0m\n\u001b[1;32m      1\u001b[0m \u001b[38;5;66;03m# enc.fit(home_data[['BldgType', 'GarageType']])\u001b[39;00m\n\u001b[0;32m----> 2\u001b[0m models \u001b[38;5;241m=\u001b[39m {\u001b[38;5;124m'\u001b[39m\u001b[38;5;124mslc\u001b[39m\u001b[38;5;124m'\u001b[39m: LogisticRegression(penalty\u001b[38;5;241m=\u001b[39m\u001b[38;5;28;01mNone\u001b[39;00m, max_iter\u001b[38;5;241m=\u001b[39m\u001b[38;5;241m300\u001b[39m),\n\u001b[1;32m      3\u001b[0m           \u001b[38;5;124m'\u001b[39m\u001b[38;5;124msvc\u001b[39m\u001b[38;5;124m'\u001b[39m: SVC(),\n\u001b[1;32m      4\u001b[0m           \u001b[38;5;124m'\u001b[39m\u001b[38;5;124mknn\u001b[39m\u001b[38;5;124m'\u001b[39m: Pipeline(((\u001b[38;5;124m'\u001b[39m\u001b[38;5;124mscale\u001b[39m\u001b[38;5;124m'\u001b[39m, StandardScaler()), (\u001b[38;5;124m'\u001b[39m\u001b[38;5;124mknnc\u001b[39m\u001b[38;5;124m'\u001b[39m,KNeighborsClassifier()))),\n\u001b[1;32m      5\u001b[0m          \u001b[38;5;124m'\u001b[39m\u001b[38;5;124mada\u001b[39m\u001b[38;5;124m'\u001b[39m: AdaBoostClassifier(),\n\u001b[1;32m      6\u001b[0m          \u001b[38;5;124m'\u001b[39m\u001b[38;5;124mgbc\u001b[39m\u001b[38;5;124m'\u001b[39m: GradientBoostingClassifier(),\n\u001b[1;32m      7\u001b[0m          \u001b[38;5;124m'\u001b[39m\u001b[38;5;124mrfc\u001b[39m\u001b[38;5;124m'\u001b[39m: RandomForestClassifier(),\n\u001b[1;32m      8\u001b[0m           \u001b[38;5;124m'\u001b[39m\u001b[38;5;124metc\u001b[39m\u001b[38;5;124m'\u001b[39m: ExtraTreesClassifier(),\n\u001b[1;32m      9\u001b[0m          \u001b[38;5;124m'\u001b[39m\u001b[38;5;124mxgbc\u001b[39m\u001b[38;5;124m'\u001b[39m: XGBClassifier()}\n",
      "\u001b[0;31mNameError\u001b[0m: name 'LogisticRegression' is not defined"
     ]
    }
   ],
   "source": [
    "# enc.fit(home_data[['BldgType', 'GarageType']])\n",
    "models = {'slc': LogisticRegression(penalty=None, max_iter=300),\n",
    "          'svc': SVC(),\n",
    "          'knn': Pipeline((('scale', StandardScaler()), ('knnc',KNeighborsClassifier()))),\n",
    "         'ada': AdaBoostClassifier(),\n",
    "         'gbc': GradientBoostingClassifier(),\n",
    "         'rfc': RandomForestClassifier(),\n",
    "          'etc': ExtraTreesClassifier(),\n",
    "         'xgbc': XGBClassifier()}"
   ]
  }
 ],
 "metadata": {
  "kernelspec": {
   "display_name": "Python 3 (ipykernel)",
   "language": "python",
   "name": "python3"
  },
  "language_info": {
   "codemirror_mode": {
    "name": "ipython",
    "version": 3
   },
   "file_extension": ".py",
   "mimetype": "text/x-python",
   "name": "python",
   "nbconvert_exporter": "python",
   "pygments_lexer": "ipython3",
   "version": "3.11.8"
  }
 },
 "nbformat": 4,
 "nbformat_minor": 5
}
