{
 "cells": [
  {
   "cell_type": "code",
   "execution_count": 20,
   "id": "30130567",
   "metadata": {},
   "outputs": [],
   "source": [
    "import pandas as pd\n",
    "import numpy as np\n",
    "import matplotlib.pyplot as plt\n",
    "import seaborn as sns\n",
    "\n",
    "from sklearn.preprocessing import OneHotEncoder\n",
    "from sklearn.preprocessing import MultiLabelBinarizer"
   ]
  },
  {
   "cell_type": "code",
   "execution_count": 4,
   "id": "c5e60a45",
   "metadata": {},
   "outputs": [],
   "source": [
    "home_data = pd.read_csv('cleaned_data.csv')\n",
    "## will have to use standard scaler\n",
    "## will probably have to hotcode some of the categorical features\n",
    "features = home_data.columns[:-1]\n",
    "target = home_data.columns[-1]"
   ]
  },
  {
   "cell_type": "code",
   "execution_count": 9,
   "id": "250e7885",
   "metadata": {},
   "outputs": [],
   "source": [
    "updated_cont = ['LotFrontage', 'LotArea','OverallQual','YearBuilt',\n",
    "'ExterQual','BsmtFinSF1',\n",
    "'TotalBsmtSF','HeatingQC','1stFlrSF','2ndFlrSF','GrLivArea',\n",
    "'BsmtFullBath','FullBath','HalfBath','KitchenQual','TotRmsAbvGrd',\n",
    "'Fireplaces','GarageCars','GarageArea',\n",
    "'OpenPorchSF', 'OverallCond','Bsmt_magnitude', 'Remod_diff']\n",
    "\n",
    "## final categorical features:\n",
    "to_hot_code = ['LotConfig', 'GarageType','GarageFinish']\n",
    "\n",
    "## HouseStyle, Lotconfig\n",
    "already_hot_coded = ['2Story', '1Story', '1.5Fin','rest_housestyle','Corner', 'CulDSac', 'Inside','other_spots']"
   ]
  },
  {
   "cell_type": "code",
   "execution_count": 21,
   "id": "743e3c09",
   "metadata": {},
   "outputs": [],
   "source": [
    "#use this in a pipeline \n",
    "mlb = MultiLabelBinarizer()\n",
    "# enc = OneHotEncoder()"
   ]
  },
  {
   "cell_type": "code",
   "execution_count": 19,
   "id": "7952050d",
   "metadata": {},
   "outputs": [],
   "source": [
    "# enc.fit(home_data[['BldgType', 'GarageType']])\n",
    "models = {'slc': LogisticRegression(penalty=None, max_iter=300),\n",
    "          'svc': SVC(),\n",
    "          'knn': Pipeline((('scale', StandardScaler()), ('knnc',KNeighborsClassifier()))),\n",
    "         'ada': AdaBoostClassifier(),\n",
    "         'gbc': GradientBoostingClassifier(),\n",
    "         'rfc': RandomForestClassifier(),\n",
    "          'etc': ExtraTreesClassifier(),\n",
    "         'xgbc': XGBClassifier()}"
   ]
  }
 ],
 "metadata": {
  "kernelspec": {
   "display_name": "Python 3 (ipykernel)",
   "language": "python",
   "name": "python3"
  },
  "language_info": {
   "codemirror_mode": {
    "name": "ipython",
    "version": 3
   },
   "file_extension": ".py",
   "mimetype": "text/x-python",
   "name": "python",
   "nbconvert_exporter": "python",
   "pygments_lexer": "ipython3",
   "version": "3.11.8"
  }
 },
 "nbformat": 4,
 "nbformat_minor": 5
}
